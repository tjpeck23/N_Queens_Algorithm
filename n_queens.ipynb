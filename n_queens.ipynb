{
  "cells": [
    {
      "cell_type": "markdown",
      "metadata": {
        "id": "SmDn3aSSjThu"
      },
      "source": [
        "# Solving the n-Queens Problem using Local Search\n",
        "\n",
        "Student Name: Travis Peck\n",
        "\n",
        "I have used the following AI tools: GPT 3.5\n",
        "\n",
        "I understand that my submission needs to be my own work: [your initials]\n",
        "\n",
        "## Instructions\n",
        "\n",
        "Total Points: Undergrads 100 + 5 bonus / Graduate students 110\n",
        "\n",
        "Complete this notebook. Use the provided notebook cells and insert additional code and markdown cells as needed. Submit the completely rendered notebook as a HTML file.\n"
      ]
    },
    {
      "cell_type": "markdown",
      "metadata": {
        "id": "fsNs8b8ojThv"
      },
      "source": [
        "## The n-Queens Problem\n",
        "\n",
        "* __Goal:__ Find an arrangement of $n$ queens on a $n \\times n$ chess board so that no queen is on the same row, column or diagonal as any other queen.\n",
        "\n",
        "* __State space:__ An arrangement of the queens on the board. We restrict the state space to arrangements where there is only a single queen per column. We represent a state as an integer vector $\\mathbf{q} = \\{q_1, q_2, \\dots, q_n\\}$, each number representing the row positions of the queens from left to right. We will call a state a \"board.\"\n",
        "\n",
        "* __Objective function:__ The number of pairwise conflicts (i.e., two queens in the same row/column/diagonal).\n",
        "The optimization problem is to find the optimal arrangement $\\mathbf{q}^*$ of $n$ queens on the board can be written as:\n",
        "\n",
        "  > minimize: $\\mathrm{conflicts}(\\mathbf{q})$\n",
        "  >\n",
        "  > subject to: $\\mathbf{q} \\ \\text{contains only one queen per column}$\n",
        "\n",
        "  Note: the constraint (subject to) is enforced by the definition of the state space.\n",
        "\n",
        "* __Local improvement move:__ Move one queen to a different row in its column.\n",
        "\n",
        "* __Termination:__ For this problem there is always an arrangement $\\mathbf{q}^*$ with $\\mathrm{conflicts}(\\mathbf{q}^*) = 0$, however, the local improvement moves might end up in a local minimum."
      ]
    },
    {
      "cell_type": "markdown",
      "metadata": {
        "id": "2IgKFIdGjThv"
      },
      "source": [
        "## Helper functions"
      ]
    },
    {
      "cell_type": "code",
      "execution_count": 5,
      "metadata": {
        "id": "R0T78p_yjThv"
      },
      "outputs": [],
      "source": [
        "import numpy as np\n",
        "import matplotlib.pyplot as plt\n",
        "from matplotlib import colors\n",
        "\n",
        "np.random.seed(1234)\n",
        "\n",
        "\n",
        "def random_board(n):\n",
        "    \"\"\"Creates a random board of size n x n. Note that only a single queen is placed in each column!\"\"\"\n",
        "\n",
        "    return(np.random.randint(0,n, size = n))\n",
        "\n",
        "def comb2(n): return n*(n-1)//2 # this is n choose 2 equivalent to math.comb(n, 2); // is int division\n",
        "\n",
        "def conflicts(board):\n",
        "    \"\"\"Calculate the number of conflicts, i.e., the objective function.\"\"\"\n",
        "\n",
        "    n = len(board)\n",
        "\n",
        "    horizontal_cnt = [0] * n\n",
        "    diagonal1_cnt = [0] * 2 * n\n",
        "    diagonal2_cnt = [0] * 2 * n\n",
        "\n",
        "    for i in range(n):\n",
        "        horizontal_cnt[board[i]] += 1\n",
        "        diagonal1_cnt[i + board[i]] += 1\n",
        "        diagonal2_cnt[i - board[i] + n] += 1\n",
        "\n",
        "    return sum(map(comb2, horizontal_cnt + diagonal1_cnt + diagonal2_cnt))\n",
        "\n",
        "# decrease the font size to fit larger boards\n",
        "def show_board(board, cols = ['white', 'gray'], fontsize = 48):\n",
        "    \"\"\"display the board\"\"\"\n",
        "\n",
        "    n = len(board)\n",
        "\n",
        "    # create chess board display\n",
        "    display = np.zeros([n,n])\n",
        "    for i in range(n):\n",
        "        for j in range(n):\n",
        "            if (((i+j) % 2) != 0):\n",
        "                display[i,j] = 1\n",
        "\n",
        "    cmap = colors.ListedColormap(cols)\n",
        "    fig, ax = plt.subplots()\n",
        "    ax.imshow(display, cmap = cmap,\n",
        "              norm = colors.BoundaryNorm(range(len(cols)+1), cmap.N))\n",
        "    ax.set_xticks([])\n",
        "    ax.set_yticks([])\n",
        "\n",
        "    # place queens. Note: Unicode u265B is a black queen\n",
        "    for j in range(n):\n",
        "        plt.text(j, board[j], u\"\\u265B\", fontsize = fontsize,\n",
        "                 horizontalalignment = 'center',\n",
        "                 verticalalignment = 'center')\n",
        "\n",
        "    print(f\"Board with {conflicts(board)} conflicts.\")\n",
        "    plt.show()"
      ]
    },
    {
      "cell_type": "markdown",
      "metadata": {
        "id": "BdPaaKuxjThw"
      },
      "source": [
        "## Create a board"
      ]
    },
    {
      "cell_type": "code",
      "execution_count": 6,
      "metadata": {
        "id": "p3EmQ4LsjThw",
        "outputId": "bfc5809f-bb56-499b-c4b0-abb24d187c05"
      },
      "outputs": [
        {
          "name": "stdout",
          "output_type": "stream",
          "text": [
            "Board with 4 conflicts.\n"
          ]
        },
        {
          "data": {
            "image/png": "[encoded data removed]",
            "text/plain": [
              "<Figure size 640x480 with 1 Axes>"
            ]
          },
          "metadata": {},
          "output_type": "display_data"
        },
        {
          "name": "stdout",
          "output_type": "stream",
          "text": [
            "Queens (left to right) are at rows: [3 3 2 1]\n",
            "Number of conflicts: 4\n"
          ]
        }
      ],
      "source": [
        "board = random_board(4)\n",
        "\n",
        "show_board(board)\n",
        "print(f\"Queens (left to right) are at rows: {board}\")\n",
        "print(f\"Number of conflicts: {conflicts(board)}\")"
      ]
    },
    {
      "cell_type": "markdown",
      "metadata": {
        "id": "Ckigdx_ujThw"
      },
      "source": [
        "A board $4 \\times 4$ with no conflicts:"
      ]
    },
    {
      "cell_type": "code",
      "execution_count": 7,
      "metadata": {
        "id": "bC6Q2-c_jThw",
        "outputId": "ba2ac7b7-dfb4-41ba-cb38-06adf58621cd"
      },
      "outputs": [
        {
          "name": "stdout",
          "output_type": "stream",
          "text": [
            "Board with 0 conflicts.\n"
          ]
        },
        {
          "data": {
            "image/png": "[encoded data removed]",
            "text/plain": [
              "<Figure size 640x480 with 1 Axes>"
            ]
          },
          "metadata": {},
          "output_type": "display_data"
        }
      ],
      "source": [
        "board = [1,3,0,2]\n",
        "show_board(board)"
      ]
    },
    {
      "cell_type": "markdown",
      "metadata": {
        "id": "lTjZn5rnjThx"
      },
      "source": [
        "# Tasks\n",
        "\n",
        "## General [10 Points]\n",
        "\n",
        "1. Make sure that you use the latest version of this notebook. Sync your forked repository and pull the latest revision.\n",
        "2. Your implementation can use libraries like math, numpy, scipy, but not libraries that implement intelligent agents or complete search algorithms. Try to keep the code simple! In this course, we want to learn about the algorithms and we often do not need to use object-oriented design.\n",
        "3. You notebook needs to be formatted professionally.\n",
        "    - Add additional markdown blocks for your description, comments in the code, add tables and use mathplotlib to produce charts where appropriate\n",
        "    - Do not show debugging output or include an excessive amount of output.\n",
        "    - Check that your PDF file is readable. For example, long lines are cut off in the PDF file. You don't have control over page breaks, so do not worry about these.\n",
        "4. Document your code. Add a short discussion of how your implementation works and your design choices."
      ]
    },
    {
      "cell_type": "markdown",
      "metadata": {
        "id": "k3ptdhfsjThx"
      },
      "source": [
        "## Task 1: Steepest-ascend Hill Climbing Search [30 Points]\n",
        "\n",
        "Calculate the objective function for all local moves (see definition of local moves above) and always choose the best among all local moves. If there are no local moves that improve the objective, then you have reached a local optimum."
      ]
    },
    {
      "cell_type": "code",
      "execution_count": 8,
      "metadata": {
        "id": "r62vD-6hjThx"
      },
      "outputs": [],
      "source": [
        "# Code and description go here\n",
        "# Generates a list of potential local improvement moves\n",
        "def neighbors(board):\n",
        "    n = len(board)\n",
        "    neighborslist = []\n",
        "    # Iterates through each column and generates a possible move wiht a queen on every possible column\n",
        "    # Generating this space is quite time intensive\n",
        "    for col in range(0,n):\n",
        "        for row in range(0,n):\n",
        "            newboard = board.copy()\n",
        "            # Generates a new copy for every possible queen location on each row\n",
        "            newboard[col] = row\n",
        "            neighborslist.append(newboard)\n",
        "    return neighborslist"
      ]
    },
    {
      "cell_type": "code",
      "execution_count": 9,
      "metadata": {},
      "outputs": [],
      "source": [
        "# Time module to time ourselves for the analysis later in the assignmetn\n",
        "import time\n",
        "\n",
        "def steepestAscent(board, max_iter=1000):\n",
        "    start = time.time()\n",
        "    currentboard = board\n",
        "\n",
        "    # I got the idea to use max_iter from chatgpt. Everything else is my own work\n",
        "    for i in range(max_iter):\n",
        "        # Generating the current number of conflicts\n",
        "        current_heuristic = conflicts(currentboard)\n",
        "        # If no conflicts, returning the board\n",
        "        if current_heuristic == 0:\n",
        "            break\n",
        "        # Generates neighbors list to explore local moves\n",
        "        neighborslist = neighbors(currentboard)\n",
        "        # Finds the local move with the lowest number of conflicts, saves it as bestneigbor\n",
        "        bestneighbor = min(neighborslist, key=conflicts)\n",
        "        bestneighbor_heuristic = conflicts(bestneighbor)\n",
        "        # If we reach a point where the best neighbor is the lowest heuristic, we found an optimum (although perhaps local)\n",
        "        if bestneighbor_heuristic >= current_heuristic:\n",
        "            break\n",
        "        currentboard = bestneighbor\n",
        "    \n",
        "    end = time.time()\n",
        "    runtime = end-start\n",
        "    return currentboard, conflicts(currentboard), runtime\n",
        "    "
      ]
    },
    {
      "cell_type": "markdown",
      "metadata": {
        "id": "pjc2CS03jThx"
      },
      "source": [
        "## Task 2: Stochastic Hill Climbing 1 [10 Points]\n",
        "\n",
        "Chooses randomly from among all uphill moves till you have reached a local optimum."
      ]
    },
    {
      "cell_type": "code",
      "execution_count": 10,
      "metadata": {
        "id": "f1E1Q179jThx"
      },
      "outputs": [],
      "source": [
        "# Code and description go here\n",
        "import random\n",
        "\n",
        "def stochasticHill(board, max_iter=10000):\n",
        "    start = time.time()\n",
        "    currentboard = board\n",
        "    # I got the idea to use max_iter and the probabilities list from chatgpt. Everything else is my own work\n",
        "    for i in range(max_iter):\n",
        "        # Generating current conflicts \n",
        "        current_heuristic = conflicts(currentboard)\n",
        "        # If no conflicts, return the current board (local optimum)\n",
        "        if current_heuristic == 0:\n",
        "            end = time.time()\n",
        "            runtime = end-start\n",
        "            return currentboard, conflicts(currentboard), runtime\n",
        "        # Generates list of potential local moves using my neighbors function\n",
        "        neighborslist = neighbors(currentboard)\n",
        "        # Generating list of options I will choose from randomly\n",
        "        # List contains all local moves with less conflicts than current state\n",
        "        options = [neighbor for neighbor in neighborslist if conflicts(neighbor) < current_heuristic]\n",
        "        # If no other options with less conflicts, return the current state as the local optimum\n",
        "        if len(options) == 0:\n",
        "            end = time.time()\n",
        "            runtime = end-start\n",
        "            return currentboard, conflicts(currentboard), runtime\n",
        "        # Generating list of probabilities proportional to the amount of conflicts a move has\n",
        "        probabilities = [(current_heuristic-conflicts(neighbor)) / current_heuristic for neighbor in options]\n",
        "        # Randomly selected from the list of options with proportional probabilities I just made\n",
        "        selected = random.choices(options, weights=probabilities)\n",
        "        # This simply unpacks the list. Result of debugging \n",
        "        selected = selected[0]\n",
        "        # Setting the current board as the new, selected board chosen with our probabilities \n",
        "        currentboard = selected"
      ]
    },
    {
      "cell_type": "markdown",
      "metadata": {
        "id": "qlYlNR6BjThx"
      },
      "source": [
        "## Task 3: Stochastic Hill Climbing 2 [20 Points]\n",
        "\n",
        "A popular version of stochastic hill climbing generates only a single random local neighbor at a time and accept it if it has a better objective function value than the current state. This is very efficient if each state has many possible successor states. This method is called \"First-choice hill climbing\" in the textbook.\n",
        "\n",
        "__Notes:__\n",
        "\n",
        "* Detecting local optima is tricky! You can, for example, stop if you were not able to improve the objective function during the last $x$ tries."
      ]
    },
    {
      "cell_type": "code",
      "execution_count": 11,
      "metadata": {
        "id": "LGb3g1TUjThy"
      },
      "outputs": [],
      "source": [
        "# Code and description go here\n",
        "import random\n",
        "\n",
        "def firstChoice(board):\n",
        "    start = time.time()\n",
        "    currentboard = board\n",
        "    current_heuristic = conflicts(currentboard)\n",
        "    # This is used to detect our local optima\n",
        "    tries = 0\n",
        "    #I got the idea to use max_iter and the probabilities list from chatgpt. Everything else is my own work\n",
        "    while tries <= 10000:\n",
        "        current_heuristic = conflicts(currentboard)\n",
        "        neighborslist = neighbors(currentboard)\n",
        "        # Randomly selecting an option from our list of local moves\n",
        "        selected = random.choice(neighborslist)\n",
        "        # If conflicts is 0, return the state as the current optima\n",
        "        if current_heuristic == 0:\n",
        "            break\n",
        "        # If the new selected state has less conflicts, set as the new current board\n",
        "        elif conflicts(selected) < current_heuristic:\n",
        "            currentboard = selected\n",
        "        #Increments the tries\n",
        "        else:\n",
        "            tries += 1\n",
        "    end = time.time()\n",
        "    runtime = end-start\n",
        "    return currentboard, conflicts(currentboard), runtime"
      ]
    },
    {
      "cell_type": "markdown",
      "metadata": {
        "id": "f0Q2UNS_jThy"
      },
      "source": [
        "## Task 4: Hill Climbing Search with Random Restarts [10 Points]\n",
        "\n",
        "Hill climbing will often end up in local optima. Restart the each of the three hill climbing algorithm up to 100 times with a random board to find a better (hopefully optimal) solution. Note that restart just means to run the algorithm several times starting with a new random board."
      ]
    },
    {
      "cell_type": "code",
      "execution_count": 45,
      "metadata": {
        "id": "uuvFZm_8jThy"
      },
      "outputs": [
        {
          "name": "stdout",
          "output_type": "stream",
          "text": [
            "Board with 0 conflicts.\n"
          ]
        },
        {
          "data": {
            "image/png": "[encoded data removed]",
            "text/plain": [
              "<Figure size 640x480 with 1 Axes>"
            ]
          },
          "metadata": {},
          "output_type": "display_data"
        }
      ],
      "source": [
        "# Code and description go here\n",
        "# Restarts 100 times until perhaps a global optima is found\n",
        "def restartSteepestAscent():\n",
        "    for _ in range(0,99):\n",
        "        board = random_board(4)\n",
        "        result, numconflicts, runtime = steepestAscent(board)\n",
        "        # if conflicts is 0, return the optima\n",
        "        if numconflicts == 0:\n",
        "            return result\n",
        "\n",
        "result = restartSteepestAscent()\n",
        "show_board(result)"
      ]
    },
    {
      "cell_type": "code",
      "execution_count": 13,
      "metadata": {},
      "outputs": [
        {
          "name": "stdout",
          "output_type": "stream",
          "text": [
            "Board with 0 conflicts.\n"
          ]
        },
        {
          "data": {
            "image/png": "[encoded data removed]",
            "text/plain": [
              "<Figure size 640x480 with 1 Axes>"
            ]
          },
          "metadata": {},
          "output_type": "display_data"
        }
      ],
      "source": [
        "# Running 100 times until optima is found\n",
        "def restartStochasticHill():\n",
        "    for _ in range(0,99):\n",
        "        board = random_board(4)\n",
        "        result, numconflicts, runtime = stochasticHill(board)\n",
        "        # If no conflicts, return the optima\n",
        "        if numconflicts == 0:\n",
        "            return result\n",
        "\n",
        "result = restartStochasticHill()\n",
        "show_board(result)"
      ]
    },
    {
      "cell_type": "code",
      "execution_count": 14,
      "metadata": {},
      "outputs": [
        {
          "name": "stdout",
          "output_type": "stream",
          "text": [
            "Board with 0 conflicts.\n"
          ]
        },
        {
          "data": {
            "image/png": "[encoded data removed]",
            "text/plain": [
              "<Figure size 640x480 with 1 Axes>"
            ]
          },
          "metadata": {},
          "output_type": "display_data"
        }
      ],
      "source": [
        "\n",
        "def restartFirstChoice():\n",
        "    for _ in range(0,99):\n",
        "        board = random_board(4)\n",
        "        result, numconflicts, runtime = firstChoice(board)\n",
        "        # If no conflicts found, return the optima\n",
        "        if numconflicts == 0:\n",
        "            return result\n",
        "\n",
        "result = restartFirstChoice()\n",
        "show_board(result)"
      ]
    },
    {
      "cell_type": "markdown",
      "metadata": {
        "id": "vWql8OY9jThy"
      },
      "source": [
        "## Task 5: Simulated Annealing [10 Points]\n",
        "\n",
        "Simulated annealing is a form of stochastic hill climbing that avoid local optima by also allowing downhill moves with a probability proportional to a temperature. The temperature is decreased in every iteration following an annealing schedule. You have to experiment with the annealing schedule (Google to find guidance on this).\n",
        "\n",
        "\n",
        "1. Implement simulated annealing for the n-Queens problem.\n",
        "2. Compare the performance with the previous algorithms.\n",
        "2. Discuss your choice of annealing schedule."
      ]
    },
    {
      "cell_type": "code",
      "execution_count": 15,
      "metadata": {
        "id": "EOIRjNmHjThy"
      },
      "outputs": [],
      "source": [
        "# Code and description go here\n",
        "import math\n",
        "import random\n",
        "\n",
        "# Setting a default temperature, cooling rate, and max iteration\n",
        "def simAnnealing(board, temp=100, coolrate=.95, maxiters=10000000):\n",
        "    start = time.time()\n",
        "    currentboard = board\n",
        "    # Setting max iters so we don't find outselves in an infinite loop (I had this problem for a while)\n",
        "    for _ in range(0,maxiters):\n",
        "        # If temperature is very low, break\n",
        "        if temp <= .0001:\n",
        "            break\n",
        "        # Finding current amount of conflicts\n",
        "        currentconflicts = conflicts(currentboard)\n",
        "        # Generating list of local moves with neighbors function I made\n",
        "        neighborslist = neighbors(currentboard)\n",
        "        # Randomly selecting one board from the neighboring local moves\n",
        "        nextboard = random.choice(neighborslist)\n",
        "        # Setting the next moves conflicts in this nextconflicts variable\n",
        "        nextconflicts = conflicts(nextboard)\n",
        "        # Calculating the difference in conflicts, delta e\n",
        "        deltae = nextconflicts-currentconflicts\n",
        "        # If deltae is less than 0 (next board has less conflicts) \n",
        "        # OR randomly generated probability is less than the e^(-delta e / temperature) function, change current board to the next board\n",
        "        if deltae < 0 or random.random() < math.exp(-deltae / temp):\n",
        "            currentboard = nextboard\n",
        "        #Adjusting the temperature\n",
        "        temp *= coolrate\n",
        "    end = time.time()\n",
        "    runtime = end-start\n",
        "    return currentboard, conflicts(currentboard), runtime\n",
        "        "
      ]
    },
    {
      "cell_type": "code",
      "execution_count": 12,
      "metadata": {},
      "outputs": [],
      "source": [
        "board = random_board(4)\n",
        "result = simAnnealing(board)"
      ]
    },
    {
      "cell_type": "markdown",
      "metadata": {
        "id": "bFxbVFsGjThy"
      },
      "source": [
        "## Task 6: Compare Performance [10 Points]\n",
        "\n",
        "Compare the algorithm using runtime and objective function values. Use boards of size 4 and 8 to explore how the different algorithms perform. Make sure that you run the algorithms for each board size several times (at least 100 times) with different starting boards and report averages.\n",
        "\n",
        "Complete the following table\n",
        "\n",
        "| Algorithm           | Board size | Avg. Run time | Avg. number of conflicts | % of runs ending in optimal solution  |\n",
        "| ------------------- | ---------- | ------------- | --------------------------------- | - |\n",
        "| Steepest asc. HC    |     4      |   .00012       |           0.535                        |  48.5% |\n",
        "| Stochastic HC 1     |     4      |     0.00014       |        0.80                         |  31.3% |\n",
        "| Stochastic HC 2     |     4      |     0.06    |               0.78           | 36.4% |\n",
        "| Simulated Annealing |     4      |      0.002       |             0.04                  |  95.9% |\n",
        "| Steepest asc. HC    |     8      |        0.001       |         1.09                          | 19.2%  |\n",
        "| Stochastic HC 1     |     8      |        0.0019     |            1.27                       |  15.2% |\n",
        "| Stochastic HC 2     |     8      |         0.26      |           1.4                        |  8.0% |\n",
        "| Simulated Annealing |     8      |          0.016     |            1.9                       |  3.0% |\n",
        "| Steepest asc. HC    |     12     |        0.006       |              1.62                     | 8.1%  |\n",
        "| Stochastic HC 1     |     12     |          0.0093     |                1.83                   |  6.0% |\n",
        "| Stochastic HC 2     |     12     |           0.56    |                1.94                   | 1.0%  |\n",
        "| Simulated Annealing |     12     |         .008      |               0.96                    | 15.2%  |\n",
        "| Steepest asc. HC    |     16     |       0.01     |            1.81                       |  4.0% |\n",
        "| Stochastic HC 1     |     16     |         .029      |            2.27                       |  0% |\n",
        "| Stochastic HC 2     |     16     |          0.91     |               2.19                    | 0.03  |\n",
        "| Simulated Annealing |     16     |        0.025       |             3.05                      |  0% |\n",
        "\n",
        "\n",
        "Add the used code and the answer to the following questions below.\n",
        "\n",
        "* How do the algorithms scale with problem size? You will need to run more board sizes. You can add the results to the table above and show the result as a chart.\n",
        "\n",
        "* What is the largest board each algorithm can solve in a reasonable amount time?\n",
        "\n",
        "Hint: See [Profiling Python Code](../HOWTOs/profiling_code.ipynb) for help about how to measure runtime in Python."
      ]
    },
    {
      "cell_type": "markdown",
      "metadata": {},
      "source": [
        "As we linearly increased the board size by 4, the average run time increased exponentially for all search algorithms except for simulated annealing. Simulated annealing increased linearly while the size increased linearly. The algorithms do not scale fairly with problem size except for simulated annealing. Furthermore, for each of the algorithms, the average number of conflicts increased as the board size increased. The percent of global optima that we found plummeted for each of the algorithms, but for simulated annealing, it plummeted slower than the rest. In fact simulated annealing had a very high amount of global optima found for sizes 4 and 12 compared to the rest. As to answer the second question, all of these algorithms can be run in a reasonable amount of time for high sizes. It would seem mundane to try anything larger than a 16 by 16 board, as the percent of global optima and avg number of conflicts would perform horribly. For the percent that actually find global optima (sizes 4 and 8 mainly), the time was very short and very reasonable. All of this to say is that for any reasonable board size that these algorithms can find any global optima for, they all perform in a reasonable amount of time"
      ]
    },
    {
      "cell_type": "markdown",
      "metadata": {},
      "source": [
        "# Steepest Ascent"
      ]
    },
    {
      "cell_type": "code",
      "execution_count": 13,
      "metadata": {
        "id": "dwLmt4VjjThy"
      },
      "outputs": [
        {
          "name": "stdout",
          "output_type": "stream",
          "text": [
            "Avg Runtime: 0.00012495300986550072\n",
            "Avg Num of Conflicts: 0.5353535353535354\n",
            "Percent Optimal Solutions: 0.48484848484848486\n"
          ]
        }
      ],
      "source": [
        "# Generating lists that we will use to found the averages\n",
        "results = []\n",
        "conflictlist = []\n",
        "times = []\n",
        "\n",
        "# Running each implementations 100 times and storing each value in a list\n",
        "for i in range(0,99):\n",
        "    board = random_board(4)\n",
        "    result, numconflicts, runtime = steepestAscent(board)\n",
        "    # Appending out lists\n",
        "    results.append(result)\n",
        "    conflictlist.append(numconflicts)\n",
        "    times.append(runtime)\n",
        "\n",
        "# Calculating average runtime, conflicts, and percent of our conflicts that are optimal\n",
        "avgtime = sum(times) / len(times)\n",
        "avgconflicts = sum(conflictlist) / len(conflictlist)\n",
        "percentoptimal = len([x for x in conflictlist if x==0]) / len(conflictlist)\n",
        "\n",
        "print('Avg Runtime:', avgtime)\n",
        "print('Avg Num of Conflicts:', avgconflicts)\n",
        "print('Percent Optimal Solutions:', percentoptimal)"
      ]
    },
    {
      "cell_type": "code",
      "execution_count": 14,
      "metadata": {},
      "outputs": [
        {
          "name": "stdout",
          "output_type": "stream",
          "text": [
            "Avg Runtime: 0.0013629667686693597\n",
            "Avg Num of Conflicts: 1.0909090909090908\n",
            "Percent Optimal Solutions: 0.1919191919191919\n"
          ]
        }
      ],
      "source": [
        "results = []\n",
        "conflictlist = []\n",
        "times = []\n",
        "\n",
        "for i in range(0,99):\n",
        "    board = random_board(8)\n",
        "    result, numconflicts, runtime = steepestAscent(board)\n",
        "    results.append(result)\n",
        "    conflictlist.append(numconflicts)\n",
        "    times.append(runtime)\n",
        "\n",
        "avgtime = sum(times) / len(times)\n",
        "avgconflicts = sum(conflictlist) / len(conflictlist)\n",
        "percentoptimal = len([x for x in conflictlist if x==0]) / len(conflictlist)\n",
        "\n",
        "print('Avg Runtime:', avgtime)\n",
        "print('Avg Num of Conflicts:', avgconflicts)\n",
        "print('Percent Optimal Solutions:', percentoptimal)"
      ]
    },
    {
      "cell_type": "code",
      "execution_count": 15,
      "metadata": {},
      "outputs": [
        {
          "name": "stdout",
          "output_type": "stream",
          "text": [
            "Avg Runtime: 0.006109695241908834\n",
            "Avg Num of Conflicts: 1.6161616161616161\n",
            "Percent Optimal Solutions: 0.08080808080808081\n"
          ]
        }
      ],
      "source": [
        "results = []\n",
        "conflictlist = []\n",
        "times = []\n",
        "\n",
        "for i in range(0,99):\n",
        "    board = random_board(12)\n",
        "    result, numconflicts, runtime = steepestAscent(board)\n",
        "    results.append(result)\n",
        "    conflictlist.append(numconflicts)\n",
        "    times.append(runtime)\n",
        "\n",
        "avgtime = sum(times) / len(times)\n",
        "avgconflicts = sum(conflictlist) / len(conflictlist)\n",
        "percentoptimal = len([x for x in conflictlist if x==0]) / len(conflictlist)\n",
        "\n",
        "print('Avg Runtime:', avgtime)\n",
        "print('Avg Num of Conflicts:', avgconflicts)\n",
        "print('Percent Optimal Solutions:', percentoptimal)"
      ]
    },
    {
      "cell_type": "code",
      "execution_count": 16,
      "metadata": {},
      "outputs": [
        {
          "name": "stdout",
          "output_type": "stream",
          "text": [
            "Avg Runtime: 0.01860335860589538\n",
            "Avg Num of Conflicts: 1.8080808080808082\n",
            "Percent Optimal Solutions: 0.04040404040404041\n"
          ]
        }
      ],
      "source": [
        "results = []\n",
        "conflictlist = []\n",
        "times = []\n",
        "\n",
        "for i in range(0,99):\n",
        "    board = random_board(16)\n",
        "    result, numconflicts, runtime = steepestAscent(board)\n",
        "    results.append(result)\n",
        "    conflictlist.append(numconflicts)\n",
        "    times.append(runtime)\n",
        "\n",
        "avgtime = sum(times) / len(times)\n",
        "avgconflicts = sum(conflictlist) / len(conflictlist)\n",
        "percentoptimal = len([x for x in conflictlist if x==0]) / len(conflictlist)\n",
        "\n",
        "print('Avg Runtime:', avgtime)\n",
        "print('Avg Num of Conflicts:', avgconflicts)\n",
        "print('Percent Optimal Solutions:', percentoptimal)"
      ]
    },
    {
      "cell_type": "markdown",
      "metadata": {},
      "source": [
        "# Stochastic Hill 1"
      ]
    },
    {
      "cell_type": "code",
      "execution_count": 17,
      "metadata": {},
      "outputs": [
        {
          "name": "stdout",
          "output_type": "stream",
          "text": [
            "Avg Runtime: 0.0001470464648622455\n",
            "Avg Num of Conflicts: 0.8080808080808081\n",
            "Percent Optimal Solutions: 0.31313131313131315\n"
          ]
        }
      ],
      "source": [
        "results = []\n",
        "conflictlist = []\n",
        "times = []\n",
        "\n",
        "for i in range(0,99):\n",
        "    board = random_board(4)\n",
        "    result, numconflicts, runtime = stochasticHill(board)\n",
        "    results.append(result)\n",
        "    conflictlist.append(numconflicts)\n",
        "    times.append(runtime)\n",
        "\n",
        "avgtime = sum(times) / len(times)\n",
        "avgconflicts = sum(conflictlist) / len(conflictlist)\n",
        "percentoptimal = len([x for x in conflictlist if x==0]) / len(conflictlist)\n",
        "\n",
        "print('Avg Runtime:', avgtime)\n",
        "print('Avg Num of Conflicts:', avgconflicts)\n",
        "print('Percent Optimal Solutions:', percentoptimal)"
      ]
    },
    {
      "cell_type": "code",
      "execution_count": 18,
      "metadata": {},
      "outputs": [
        {
          "name": "stdout",
          "output_type": "stream",
          "text": [
            "Avg Runtime: 0.0019735423001376066\n",
            "Avg Num of Conflicts: 1.2727272727272727\n",
            "Percent Optimal Solutions: 0.15151515151515152\n"
          ]
        }
      ],
      "source": [
        "results = []\n",
        "conflictlist = []\n",
        "times = []\n",
        "\n",
        "for i in range(0,99):\n",
        "    board = random_board(8)\n",
        "    result, numconflicts, runtime = stochasticHill(board)\n",
        "    results.append(result)\n",
        "    conflictlist.append(numconflicts)\n",
        "    times.append(runtime)\n",
        "\n",
        "avgtime = sum(times) / len(times)\n",
        "avgconflicts = sum(conflictlist) / len(conflictlist)\n",
        "percentoptimal = len([x for x in conflictlist if x==0]) / len(conflictlist)\n",
        "\n",
        "print('Avg Runtime:', avgtime)\n",
        "print('Avg Num of Conflicts:', avgconflicts)\n",
        "print('Percent Optimal Solutions:', percentoptimal)"
      ]
    },
    {
      "cell_type": "code",
      "execution_count": 19,
      "metadata": {},
      "outputs": [
        {
          "name": "stdout",
          "output_type": "stream",
          "text": [
            "Avg Runtime: 0.009255727132161459\n",
            "Avg Num of Conflicts: 1.8383838383838385\n",
            "Percent Optimal Solutions: 0.06060606060606061\n"
          ]
        }
      ],
      "source": [
        "results = []\n",
        "conflictlist = []\n",
        "times = []\n",
        "\n",
        "for i in range(0,99):\n",
        "    board = random_board(12)\n",
        "    result, numconflicts, runtime = stochasticHill(board)\n",
        "    results.append(result)\n",
        "    conflictlist.append(numconflicts)\n",
        "    times.append(runtime)\n",
        "\n",
        "avgtime = sum(times) / len(times)\n",
        "avgconflicts = sum(conflictlist) / len(conflictlist)\n",
        "percentoptimal = len([x for x in conflictlist if x==0]) / len(conflictlist)\n",
        "\n",
        "print('Avg Runtime:', avgtime)\n",
        "print('Avg Num of Conflicts:', avgconflicts)\n",
        "print('Percent Optimal Solutions:', percentoptimal)"
      ]
    },
    {
      "cell_type": "code",
      "execution_count": 20,
      "metadata": {},
      "outputs": [
        {
          "name": "stdout",
          "output_type": "stream",
          "text": [
            "Avg Runtime: 0.029950869203817964\n",
            "Avg Num of Conflicts: 2.272727272727273\n",
            "Percent Optimal Solutions: 0.0\n"
          ]
        }
      ],
      "source": [
        "results = []\n",
        "conflictlist = []\n",
        "times = []\n",
        "\n",
        "for i in range(0,99):\n",
        "    board = random_board(16)\n",
        "    result, numconflicts, runtime = stochasticHill(board)\n",
        "    results.append(result)\n",
        "    conflictlist.append(numconflicts)\n",
        "    times.append(runtime)\n",
        "\n",
        "avgtime = sum(times) / len(times)\n",
        "avgconflicts = sum(conflictlist) / len(conflictlist)\n",
        "percentoptimal = len([x for x in conflictlist if x==0]) / len(conflictlist)\n",
        "\n",
        "print('Avg Runtime:', avgtime)\n",
        "print('Avg Num of Conflicts:', avgconflicts)\n",
        "print('Percent Optimal Solutions:', percentoptimal)"
      ]
    },
    {
      "cell_type": "markdown",
      "metadata": {},
      "source": [
        "# Stochastic Hill 2"
      ]
    },
    {
      "cell_type": "code",
      "execution_count": 21,
      "metadata": {},
      "outputs": [
        {
          "name": "stdout",
          "output_type": "stream",
          "text": [
            "Avg Runtime: 0.06101259799918743\n",
            "Avg Num of Conflicts: 0.7777777777777778\n",
            "Percent Optimal Solutions: 0.36363636363636365\n"
          ]
        }
      ],
      "source": [
        "results = []\n",
        "conflictlist = []\n",
        "times = []\n",
        "\n",
        "for i in range(0,99):\n",
        "    board = random_board(4)\n",
        "    result, numconflicts, runtime = firstChoice(board)\n",
        "    results.append(result)\n",
        "    conflictlist.append(numconflicts)\n",
        "    times.append(runtime)\n",
        "\n",
        "avgtime = sum(times) / len(times)\n",
        "avgconflicts = sum(conflictlist) / len(conflictlist)\n",
        "percentoptimal = len([x for x in conflictlist if x==0]) / len(conflictlist)\n",
        "\n",
        "print('Avg Runtime:', avgtime)\n",
        "print('Avg Num of Conflicts:', avgconflicts)\n",
        "print('Percent Optimal Solutions:', percentoptimal)"
      ]
    },
    {
      "cell_type": "code",
      "execution_count": 22,
      "metadata": {},
      "outputs": [
        {
          "name": "stdout",
          "output_type": "stream",
          "text": [
            "Avg Runtime: 0.26044295291707975\n",
            "Avg Num of Conflicts: 1.404040404040404\n",
            "Percent Optimal Solutions: 0.08080808080808081\n"
          ]
        }
      ],
      "source": [
        "results = []\n",
        "conflictlist = []\n",
        "times = []\n",
        "\n",
        "for i in range(0,99):\n",
        "    board = random_board(8)\n",
        "    result, numconflicts, runtime = firstChoice(board)\n",
        "    results.append(result)\n",
        "    conflictlist.append(numconflicts)\n",
        "    times.append(runtime)\n",
        "\n",
        "avgtime = sum(times) / len(times)\n",
        "avgconflicts = sum(conflictlist) / len(conflictlist)\n",
        "percentoptimal = len([x for x in conflictlist if x==0]) / len(conflictlist)\n",
        "\n",
        "print('Avg Runtime:', avgtime)\n",
        "print('Avg Num of Conflicts:', avgconflicts)\n",
        "print('Percent Optimal Solutions:', percentoptimal)"
      ]
    },
    {
      "cell_type": "code",
      "execution_count": 23,
      "metadata": {},
      "outputs": [
        {
          "name": "stdout",
          "output_type": "stream",
          "text": [
            "Avg Runtime: 0.564387215508355\n",
            "Avg Num of Conflicts: 1.9494949494949494\n",
            "Percent Optimal Solutions: 0.010101010101010102\n"
          ]
        }
      ],
      "source": [
        "results = []\n",
        "conflictlist = []\n",
        "times = []\n",
        "\n",
        "for i in range(0,99):\n",
        "    board = random_board(12)\n",
        "    result, numconflicts, runtime = firstChoice(board)\n",
        "    results.append(result)\n",
        "    conflictlist.append(numconflicts)\n",
        "    times.append(runtime)\n",
        "\n",
        "avgtime = sum(times) / len(times)\n",
        "avgconflicts = sum(conflictlist) / len(conflictlist)\n",
        "percentoptimal = len([x for x in conflictlist if x==0]) / len(conflictlist)\n",
        "\n",
        "print('Avg Runtime:', avgtime)\n",
        "print('Avg Num of Conflicts:', avgconflicts)\n",
        "print('Percent Optimal Solutions:', percentoptimal)"
      ]
    },
    {
      "cell_type": "code",
      "execution_count": 24,
      "metadata": {},
      "outputs": [
        {
          "name": "stdout",
          "output_type": "stream",
          "text": [
            "Avg Runtime: 0.9127063221401639\n",
            "Avg Num of Conflicts: 2.191919191919192\n",
            "Percent Optimal Solutions: 0.030303030303030304\n"
          ]
        }
      ],
      "source": [
        "results = []\n",
        "conflictlist = []\n",
        "times = []\n",
        "\n",
        "for i in range(0,99):\n",
        "    board = random_board(16)\n",
        "    result, numconflicts, runtime = firstChoice(board)\n",
        "    results.append(result)\n",
        "    conflictlist.append(numconflicts)\n",
        "    times.append(runtime)\n",
        "\n",
        "avgtime = sum(times) / len(times)\n",
        "avgconflicts = sum(conflictlist) / len(conflictlist)\n",
        "percentoptimal = len([x for x in conflictlist if x==0]) / len(conflictlist)\n",
        "\n",
        "print('Avg Runtime:', avgtime)\n",
        "print('Avg Num of Conflicts:', avgconflicts)\n",
        "print('Percent Optimal Solutions:', percentoptimal)"
      ]
    },
    {
      "cell_type": "markdown",
      "metadata": {},
      "source": [
        "# Simulated Annealing"
      ]
    },
    {
      "cell_type": "code",
      "execution_count": 25,
      "metadata": {},
      "outputs": [
        {
          "name": "stdout",
          "output_type": "stream",
          "text": [
            "Avg Runtime: 0.0027173456519541113\n",
            "Avg Num of Conflicts: 0.04040404040404041\n",
            "Percent Optimal Solutions: 0.9595959595959596\n"
          ]
        }
      ],
      "source": [
        "results = []\n",
        "conflictlist = []\n",
        "times = []\n",
        "\n",
        "for i in range(0,99):\n",
        "    board = random_board(4)\n",
        "    result, numconflicts, runtime = simAnnealing(board)\n",
        "    results.append(result)\n",
        "    conflictlist.append(numconflicts)\n",
        "    times.append(runtime)\n",
        "\n",
        "avgtime = sum(times) / len(times)\n",
        "avgconflicts = sum(conflictlist) / len(conflictlist)\n",
        "percentoptimal = len([x for x in conflictlist if x==0]) / len(conflictlist)\n",
        "\n",
        "print('Avg Runtime:', avgtime)\n",
        "print('Avg Num of Conflicts:', avgconflicts)\n",
        "print('Percent Optimal Solutions:', percentoptimal)"
      ]
    },
    {
      "cell_type": "code",
      "execution_count": 26,
      "metadata": {},
      "outputs": [
        {
          "name": "stdout",
          "output_type": "stream",
          "text": [
            "Avg Runtime: 0.007802060156157522\n",
            "Avg Num of Conflicts: 0.9696969696969697\n",
            "Percent Optimal Solutions: 0.15151515151515152\n"
          ]
        }
      ],
      "source": [
        "results = []\n",
        "conflictlist = []\n",
        "times = []\n",
        "\n",
        "for i in range(0,99):\n",
        "    board = random_board(8)\n",
        "    result, numconflicts, runtime = simAnnealing(board)\n",
        "    results.append(result)\n",
        "    conflictlist.append(numconflicts)\n",
        "    times.append(runtime)\n",
        "\n",
        "avgtime = sum(times) / len(times)\n",
        "avgconflicts = sum(conflictlist) / len(conflictlist)\n",
        "percentoptimal = len([x for x in conflictlist if x==0]) / len(conflictlist)\n",
        "\n",
        "print('Avg Runtime:', avgtime)\n",
        "print('Avg Num of Conflicts:', avgconflicts)\n",
        "print('Percent Optimal Solutions:', percentoptimal)"
      ]
    },
    {
      "cell_type": "code",
      "execution_count": 27,
      "metadata": {},
      "outputs": [
        {
          "name": "stdout",
          "output_type": "stream",
          "text": [
            "Avg Runtime: 0.01575487551062998\n",
            "Avg Num of Conflicts: 1.9090909090909092\n",
            "Percent Optimal Solutions: 0.030303030303030304\n"
          ]
        }
      ],
      "source": [
        "results = []\n",
        "conflictlist = []\n",
        "times = []\n",
        "\n",
        "for i in range(0,99):\n",
        "    board = random_board(12)\n",
        "    result, numconflicts, runtime = simAnnealing(board)\n",
        "    results.append(result)\n",
        "    conflictlist.append(numconflicts)\n",
        "    times.append(runtime)\n",
        "\n",
        "avgtime = sum(times) / len(times)\n",
        "avgconflicts = sum(conflictlist) / len(conflictlist)\n",
        "percentoptimal = len([x for x in conflictlist if x==0]) / len(conflictlist)\n",
        "\n",
        "print('Avg Runtime:', avgtime)\n",
        "print('Avg Num of Conflicts:', avgconflicts)\n",
        "print('Percent Optimal Solutions:', percentoptimal)"
      ]
    },
    {
      "cell_type": "code",
      "execution_count": 28,
      "metadata": {},
      "outputs": [
        {
          "name": "stdout",
          "output_type": "stream",
          "text": [
            "Avg Runtime: 0.025800353348857226\n",
            "Avg Num of Conflicts: 3.0505050505050506\n",
            "Percent Optimal Solutions: 0.0\n"
          ]
        }
      ],
      "source": [
        "results = []\n",
        "conflictlist = []\n",
        "times = []\n",
        "\n",
        "for i in range(0,99):\n",
        "    board = random_board(16)\n",
        "    result, numconflicts, runtime = simAnnealing(board)\n",
        "    results.append(result)\n",
        "    conflictlist.append(numconflicts)\n",
        "    times.append(runtime)\n",
        "\n",
        "avgtime = sum(times) / len(times)\n",
        "avgconflicts = sum(conflictlist) / len(conflictlist)\n",
        "percentoptimal = len([x for x in conflictlist if x==0]) / len(conflictlist)\n",
        "\n",
        "print('Avg Runtime:', avgtime)\n",
        "print('Avg Num of Conflicts:', avgconflicts)\n",
        "print('Percent Optimal Solutions:', percentoptimal)"
      ]
    },
    {
      "cell_type": "markdown",
      "metadata": {
        "id": "i8Y1EP6WjThy"
      },
      "source": [
        "## Advanced task: Exploring other Local Moves\n",
        "\n",
        "* __Graduate students__ need to complete this task [10 points]\n",
        "* __Undergraduate students__ can attempt this as a bonus task [max +5 bonus points].\n",
        "\n",
        "Implement a few different local moves. Implement:\n",
        "\n",
        "* moving one queen only one square at a time\n",
        "* switching two columns\n",
        "* move two queens at a time\n",
        "\n",
        "Compare the performance of these moves for the 8-Queens problem using your stochastic hill climbing 2 implementation from above. Also consider mixing the use of several types of local moves (e.g., move one queen and moving two queens).\n",
        "\n",
        "Describe what you find out about how well these moves and combinations of these moves work."
      ]
    },
    {
      "cell_type": "markdown",
      "metadata": {},
      "source": [
        "All of these methods to find local moves had similar runtimes of less than a second. Regarding performance, moving one queen at a time had the worst performance, having 4 conflicts by the end. Switching two columns performed poor as well, with 3 conflicts. Moving two queens at once led to 1 conflict. These three methods by themselves seemed to only find a local optima. Strikingly, finding the local moves with the first and third methods combined found global optima 100% of the time. I generated a list of moves using the 'moving one queen one square at a time' and appending that list of moves with the 'two queens at a time' list of local moves as well. Using this concatenated list generated global optima (0 conflicts) every single time I ran it. It took about 20% more time than the other algorithms though."
      ]
    },
    {
      "cell_type": "markdown",
      "metadata": {},
      "source": [
        "# One queen one square at a time"
      ]
    },
    {
      "cell_type": "code",
      "execution_count": 47,
      "metadata": {},
      "outputs": [],
      "source": [
        "# These functions will essentially replace the 'neighbors' function\n",
        "# These will be new functions to generate local moves\n",
        "\n",
        "def oneSquareNeighbors(board):\n",
        "    # Setting the length of the board to use\n",
        "    n = len(board)\n",
        "    neighborslist = []\n",
        "    # Iterating through each queen\n",
        "    for col in range(0,n):\n",
        "        # Creating two copies of the board that will move the queen one space down or up\n",
        "        newboard1 = board.copy()\n",
        "        newboard2 = board.copy()\n",
        "        # Moving the queen down a space\n",
        "        newboard1[col] -= 1\n",
        "        # If out of bound (too low), queen goes back to top\n",
        "        if newboard1[col] < 0:\n",
        "            newboard1[col] = n-1\n",
        "        # Moving queen up once\n",
        "        newboard2[col] += 1\n",
        "        # If out of bounds (too high), queen goes to bottom\n",
        "        if newboard2[col] > n-1:\n",
        "            newboard2[col] = 0\n",
        "        # Appending the local moves list with the queens one space away\n",
        "        neighborslist.append(newboard1)\n",
        "        neighborslist.append(newboard2)\n",
        "    return neighborslist"
      ]
    },
    {
      "cell_type": "markdown",
      "metadata": {},
      "source": [
        "# Swapping columns"
      ]
    },
    {
      "cell_type": "code",
      "execution_count": 48,
      "metadata": {},
      "outputs": [],
      "source": [
        "# We will swap two columns\n",
        "\n",
        "def columnSwap(board):\n",
        "    n = len(board)\n",
        "    neighborslist = []\n",
        "    # Iterating through each queen...\n",
        "    for col in range(0,n):\n",
        "        # Creating new board\n",
        "        newboard = board.copy()\n",
        "        # Randomly choosing an index to swap\n",
        "        swapper = random.randint(0, n-1)\n",
        "        # Swapping the board value (queen row) with another board value\n",
        "        newboard[col] = newboard[swapper]\n",
        "        newboard[swapper] = newboard[col]\n",
        "        # Appending the local move list\n",
        "        neighborslist.append(newboard)\n",
        "    return neighborslist"
      ]
    },
    {
      "cell_type": "markdown",
      "metadata": {},
      "source": [
        "# Moving two queens simultaneously"
      ]
    },
    {
      "cell_type": "code",
      "execution_count": 49,
      "metadata": {},
      "outputs": [],
      "source": [
        "# Moving two queens at once\n",
        "\n",
        "def twoQueens(board):\n",
        "    n = len(board)\n",
        "    neighborslist = []\n",
        "    # Iterating through each queen\n",
        "    for col in range(0,n):\n",
        "        # Creating a copy board\n",
        "        newboard = board.copy()\n",
        "        # Generating a random index that will randomly move a queen to this row\n",
        "        rand = random.randint(0,n-1)\n",
        "        # Moving a queen to this row\n",
        "        newboard[col] = rand\n",
        "        # Selecting another random queen to move\n",
        "        # Moving it to another randomly selected row\n",
        "        newboard[random.randint(0,n-1)] = random.randint(0,n-1)\n",
        "        # Appending the local moves\n",
        "        neighborslist.append(newboard)\n",
        "    return neighborslist"
      ]
    },
    {
      "cell_type": "markdown",
      "metadata": {},
      "source": [
        "# Testing these new methods..."
      ]
    },
    {
      "cell_type": "code",
      "execution_count": 50,
      "metadata": {},
      "outputs": [
        {
          "name": "stdout",
          "output_type": "stream",
          "text": [
            "Final board: [2 4 7 7 3 1 2 0]\n",
            "Conflicts: 4\n",
            "Runtime: 0.17255592346191406\n",
            "Board with 4 conflicts.\n"
          ]
        },
        {
          "data": {
            "image/png": "[encoded data removed]",
            "text/plain": [
              "<Figure size 640x480 with 1 Axes>"
            ]
          },
          "metadata": {},
          "output_type": "display_data"
        }
      ],
      "source": [
        "# Code and description go here\n",
        "import random\n",
        "\n",
        "def firstChoice(board):\n",
        "    start = time.time()\n",
        "    currentboard = board\n",
        "    current_heuristic = conflicts(currentboard)\n",
        "    tries = 0\n",
        "    while tries <= 10000:\n",
        "        current_heuristic = conflicts(currentboard)\n",
        "\n",
        "        # This is the only line of code I changed in the function\n",
        "        # Uses the new function that finds local moves\n",
        "        neighborslist = oneSquareNeighbors(currentboard)\n",
        "\n",
        "        selected = random.choice(neighborslist)\n",
        "        if current_heuristic == 0:\n",
        "            break\n",
        "        elif conflicts(selected) < current_heuristic:\n",
        "            currentboard = selected\n",
        "        else:\n",
        "            tries += 1\n",
        "    end = time.time()\n",
        "    runtime = end-start\n",
        "    return currentboard, conflicts(currentboard), runtime\n",
        "\n",
        "board = random_board(8)\n",
        "result, numconflicts, runtime = firstChoice(board)\n",
        "print('Final board:', result)\n",
        "print('Conflicts:', numconflicts)\n",
        "print('Runtime:', runtime)\n",
        "show_board(result)"
      ]
    },
    {
      "cell_type": "code",
      "execution_count": 52,
      "metadata": {},
      "outputs": [
        {
          "name": "stdout",
          "output_type": "stream",
          "text": [
            "Final board: [4 6 3 6 4 1 5 5]\n",
            "Conflicts: 3\n",
            "Runtime: 0.1477220058441162\n",
            "Board with 3 conflicts.\n"
          ]
        },
        {
          "data": {
            "image/png": "[encoded data removed]",
            "text/plain": [
              "<Figure size 640x480 with 1 Axes>"
            ]
          },
          "metadata": {},
          "output_type": "display_data"
        }
      ],
      "source": [
        "# Code and description go here\n",
        "import random\n",
        "\n",
        "def firstChoice(board):\n",
        "    start = time.time()\n",
        "    currentboard = board\n",
        "    current_heuristic = conflicts(currentboard)\n",
        "    tries = 0\n",
        "    #I got the idea to use max_iter and the probabilities list from chatgpt. Everything else is my own work\n",
        "    while tries <= 10000:\n",
        "        current_heuristic = conflicts(currentboard)\n",
        "        neighborslist = columnSwap(currentboard)\n",
        "        selected = random.choice(neighborslist)\n",
        "        if current_heuristic == 0:\n",
        "            break\n",
        "        elif conflicts(selected) < current_heuristic:\n",
        "            currentboard = selected\n",
        "        else:\n",
        "            tries += 1\n",
        "    end = time.time()\n",
        "    runtime = end-start\n",
        "    return currentboard, conflicts(currentboard), runtime\n",
        "\n",
        "board = random_board(8)\n",
        "result, numconflicts, runtime = firstChoice(board)\n",
        "print('Final board:', result)\n",
        "print('Conflicts:', numconflicts)\n",
        "print('Runtime:', runtime)\n",
        "show_board(result)"
      ]
    },
    {
      "cell_type": "code",
      "execution_count": 53,
      "metadata": {},
      "outputs": [
        {
          "name": "stdout",
          "output_type": "stream",
          "text": [
            "Final board: [3 7 0 4 1 5 0 2]\n",
            "Conflicts: 1\n",
            "Runtime: 0.1891040802001953\n",
            "Board with 1 conflicts.\n"
          ]
        },
        {
          "data": {
            "image/png": "[encoded data removed]",
            "text/plain": [
              "<Figure size 640x480 with 1 Axes>"
            ]
          },
          "metadata": {},
          "output_type": "display_data"
        }
      ],
      "source": [
        "# Code and description go here\n",
        "import random\n",
        "\n",
        "def firstChoice(board):\n",
        "    start = time.time()\n",
        "    currentboard = board\n",
        "    current_heuristic = conflicts(currentboard)\n",
        "    tries = 0\n",
        "    while tries <= 10000:\n",
        "        current_heuristic = conflicts(currentboard)\n",
        "        neighborslist = twoQueens(currentboard)\n",
        "        selected = random.choice(neighborslist)\n",
        "        if current_heuristic == 0:\n",
        "            break\n",
        "        elif conflicts(selected) < current_heuristic:\n",
        "            currentboard = selected\n",
        "        else:\n",
        "            tries += 1\n",
        "    end = time.time()\n",
        "    runtime = end-start\n",
        "    return currentboard, conflicts(currentboard), runtime\n",
        "\n",
        "board = random_board(8)\n",
        "result, numconflicts, runtime = firstChoice(board)\n",
        "print('Final board:', result)\n",
        "print('Conflicts:', numconflicts)\n",
        "print('Runtime:', runtime)\n",
        "show_board(result)"
      ]
    },
    {
      "cell_type": "markdown",
      "metadata": {},
      "source": [
        "# Combining the 'one queen, one square at a time' and 'two queens at once' functions to find local moves"
      ]
    },
    {
      "cell_type": "markdown",
      "metadata": {},
      "source": [
        "### This last test performed amazingly well, finding global optima every time"
      ]
    },
    {
      "cell_type": "code",
      "execution_count": 54,
      "metadata": {},
      "outputs": [
        {
          "name": "stdout",
          "output_type": "stream",
          "text": [
            "Final board: [2 5 1 4 7 0 6 3]\n",
            "Conflicts: 0\n",
            "Runtime: 0.20499920845031738\n",
            "Board with 0 conflicts.\n"
          ]
        },
        {
          "data": {
            "image/png": "[encoded data removed]",
            "text/plain": [
              "<Figure size 640x480 with 1 Axes>"
            ]
          },
          "metadata": {},
          "output_type": "display_data"
        }
      ],
      "source": [
        "# Code and description go here\n",
        "import random\n",
        "\n",
        "def firstChoice(board):\n",
        "    start = time.time()\n",
        "    currentboard = board\n",
        "    current_heuristic = conflicts(currentboard)\n",
        "    tries = 0\n",
        "    while tries <= 10000:\n",
        "        current_heuristic = conflicts(currentboard)\n",
        "        neighborslist = oneSquareNeighbors(currentboard)\n",
        "        neighborslist2 = twoQueens(currentboard)\n",
        "        for i in neighborslist2:\n",
        "            neighborslist.append(i)\n",
        "        selected = random.choice(neighborslist)\n",
        "        if current_heuristic == 0:\n",
        "            break\n",
        "        elif conflicts(selected) < current_heuristic:\n",
        "            currentboard = selected\n",
        "        else:\n",
        "            tries += 1\n",
        "    end = time.time()\n",
        "    runtime = end-start\n",
        "    return currentboard, conflicts(currentboard), runtime\n",
        "\n",
        "board = random_board(8)\n",
        "result, numconflicts, runtime = firstChoice(board)\n",
        "print('Final board:', result)\n",
        "print('Conflicts:', numconflicts)\n",
        "print('Runtime:', runtime)\n",
        "show_board(result)"
      ]
    },
    {
      "cell_type": "markdown",
      "metadata": {
        "id": "R7mhl0rijThz"
      },
      "source": [
        "## More things to do\n",
        "\n",
        "Implement a Genetic Algorithm for the n-Queens problem."
      ]
    },
    {
      "cell_type": "code",
      "execution_count": 55,
      "metadata": {
        "id": "zhiWHmbOjThz",
        "tags": []
      },
      "outputs": [],
      "source": [
        "# Code and description go here"
      ]
    }
  ],
  "metadata": {
    "colab": {
      "provenance": []
    },
    "kernelspec": {
      "display_name": "Python 3 (ipykernel)",
      "language": "python",
      "name": "python3"
    },
    "language_info": {
      "codemirror_mode": {
        "name": "ipython",
        "version": 3
      },
      "file_extension": ".py",
      "mimetype": "text/x-python",
      "name": "python",
      "nbconvert_exporter": "python",
      "pygments_lexer": "ipython3",
      "version": "3.11.4"
    },
    "toc-autonumbering": false,
    "toc-showcode": false,
    "toc-showmarkdowntxt": false,
    "toc-showtags": false
  },
  "nbformat": 4,
  "nbformat_minor": 0
}
